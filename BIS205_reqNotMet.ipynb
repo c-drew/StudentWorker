{
 "cells": [
  {
   "cell_type": "markdown",
   "id": "d849fea3",
   "metadata": {},
   "source": [
    "# Drew's BIS 205 Acceptance wizard\n",
    "   ##### *must use 'requirements not met' WebFOCUS report"
   ]
  },
  {
   "cell_type": "markdown",
   "id": "8472351a",
   "metadata": {},
   "source": [
    "#### import libraries, edit width of cells"
   ]
  },
  {
   "cell_type": "code",
   "execution_count": 2,
   "id": "ab8f4a68",
   "metadata": {},
   "outputs": [
    {
     "data": {
      "text/html": [
       "<style>.container { width:100% !important; }</style>"
      ],
      "text/plain": [
       "<IPython.core.display.HTML object>"
      ]
     },
     "metadata": {},
     "output_type": "display_data"
    }
   ],
   "source": [
    "import pandas as pd\n",
    "import numpy as np \n",
    "\n",
    "from IPython.display import display, HTML # make cell width wider bc my code is soooooo long (see def bis205_prereq_check(df):)\n",
    "display(HTML(\"<style>.container { width:100% !important; }</style>\"))\n",
    "\n",
    "pd.set_option('display.max_columns', 500)\n",
    "pd.set_option('display.max_rows', 100)"
   ]
  },
  {
   "cell_type": "markdown",
   "id": "d3a618c3",
   "metadata": {},
   "source": [
    "### Enter the current semester you'd like to evaluate on: "
   ]
  },
  {
   "cell_type": "code",
   "execution_count": 3,
   "id": "648a0e8d",
   "metadata": {
    "scrolled": true
   },
   "outputs": [],
   "source": [
    "currentSemester = 'Fall 2023'\n",
    "evalSemester = '' # to be added soon!"
   ]
  },
  {
   "cell_type": "markdown",
   "id": "8294d4a3",
   "metadata": {},
   "source": [
    "### what would you like the file name to be? "
   ]
  },
  {
   "cell_type": "code",
   "execution_count": 4,
   "id": "8b7cadcd",
   "metadata": {
    "scrolled": true
   },
   "outputs": [],
   "source": [
    "file_name = 'StudentsNeed_BIS205_RS'"
   ]
  },
  {
   "cell_type": "markdown",
   "id": "0b6b82e1",
   "metadata": {},
   "source": [
    "#### long asf semester dictionary\n",
    "will be important later"
   ]
  },
  {
   "cell_type": "code",
   "execution_count": 5,
   "id": "e078943c",
   "metadata": {
    "scrolled": true
   },
   "outputs": [],
   "source": [
    "semester = {\n",
    "    'Spring 1990': 19901, 'Summer 1990': 19902, 'Fall 1990': 19903, 'Wintersession 1990': 19904, 'Intersession 1990': 19904, \n",
    "    'Spring 1991': 19911, 'Summer 1991': 19912, 'Fall 1991': 19913, 'Wintersession 1991': 19914, 'Intersession 1991': 19914, \n",
    "    'Spring 1992': 19921, 'Summer 1992': 19922, 'Fall 1992': 19923, 'Wintersession 1992': 19924, 'Intersession 1992': 19924, \n",
    "    'Spring 1993': 19931, 'Summer 1993': 19932, 'Fall 1993': 19933, 'Wintersession 1993': 19934, 'Intersession 1993': 19934, \n",
    "    'Spring 1994': 19941, 'Summer 1994': 19942, 'Fall 1994': 19943, 'Wintersession 1994': 19944, 'Intersession 1994': 19944, \n",
    "    'Spring 1995': 19951, 'Summer 1995': 19952, 'Fall 1995': 19953, 'Wintersession 1995': 19954, 'Intersession 1995': 19954, \n",
    "    'Spring 1996': 19961, 'Summer 1996': 19962, 'Fall 1996': 19963, 'Wintersession 1996': 19964, 'Intersession 1996': 19964, \n",
    "    'Spring 1997': 19971, 'Summer 1997': 19972, 'Fall 1997': 19973, 'Wintersession 1997': 19974, 'Intersession 1997': 19974, \n",
    "    'Spring 1998': 19981, 'Summer 1998': 19982, 'Fall 1998': 19983, 'Wintersession 1998': 19984, 'Intersession 1998': 19984, \n",
    "    'Spring 1999': 19991, 'Summer 1999': 19992, 'Fall 1999': 19993, 'Wintersession 1999': 19994, 'Intersession 1999': 19994, \n",
    "    'Spring 2000': 20001, 'Summer 2000': 20002, 'Fall 2000': 20003, 'Wintersession 2000': 20004, 'Intersession 2000': 20004, \n",
    "    'Spring 2001': 20011, 'Summer 2001': 20012, 'Fall 2001': 20013, 'Wintersession 2001': 20014, 'Intersession 2001': 20014, \n",
    "    'Spring 2002': 20021, 'Summer 2002': 20022, 'Fall 2002': 20023, 'Wintersession 2002': 20024, 'Intersession 2002': 20024, \n",
    "    'Spring 2003': 20031, 'Summer 2003': 20032, 'Fall 2003': 20033, 'Wintersession 2003': 20034, 'Intersession 2003': 20034, \n",
    "    'Spring 2004': 20041, 'Summer 2004': 20042, 'Fall 2004': 20043, 'Wintersession 2004': 20044, 'Intersession 2004': 20044, \n",
    "    'Spring 2005': 20051, 'Summer 2005': 20052, 'Fall 2005': 20053, 'Wintersession 2005': 20054, 'Intersession 2005': 20054, \n",
    "    'Spring 2006': 20061, 'Summer 2006': 20062, 'Fall 2006': 20063, 'Wintersession 2006': 20064, 'Intersession 2006': 20064, \n",
    "    'Spring 2007': 20071, 'Summer 2007': 20072, 'Fall 2007': 20073, 'Wintersession 2007': 20074, 'Intersession 2007': 20074, \n",
    "    'Spring 2008': 20081, 'Summer 2008': 20082, 'Fall 2008': 20083, 'Wintersession 2008': 20084, 'Intersession 2008': 20084, \n",
    "    'Spring 2009': 20091, 'Summer 2009': 20092, 'Fall 2009': 20093, 'Wintersession 2009': 20094, 'Intersession 2009': 20094, \n",
    "    'Spring 2010': 20101, 'Summer 2010': 20102, 'Fall 2010': 20103, 'Wintersession 2010': 20104, 'Intersession 2010': 20104, \n",
    "    'Spring 2011': 20111, 'Summer 2011': 20112, 'Fall 2011': 20113, 'Wintersession 2011': 20114, 'Intersession 2011': 20114, \n",
    "    'Spring 2012': 20121, 'Summer 2012': 20122, 'Fall 2012': 20123, 'Wintersession 2012': 20124, 'Intersession 2012': 20124, \n",
    "    'Spring 2013': 20131, 'Summer 2013': 20132, 'Fall 2013': 20133, 'Wintersession 2013': 20134, 'Intersession 2013': 20134, \n",
    "    'Spring 2014': 20141, 'Summer 2014': 20142, 'Fall 2014': 20143, 'Wintersession 2014': 20144, 'Intersession 2014': 20144, \n",
    "    'Spring 2015': 20151, 'Summer 2015': 20152, 'Fall 2015': 20153, 'Wintersession 2015': 20154, 'Intersession 2015': 20154, \n",
    "    'Spring 2016': 20161, 'Summer 2016': 20162, 'Fall 2016': 20163, 'Wintersession 2016': 20164, 'Intersession 2016': 20164, \n",
    "    'Spring 2017': 20171, 'Summer 2017': 20172, 'Fall 2017': 20173, 'Wintersession 2017': 20174, 'Intersession 2017': 20174, \n",
    "    'Spring 2018': 20181, 'Summer 2018': 20182, 'Fall 2018': 20183, 'Wintersession 2018': 20184, 'Intersession 2018': 20184, \n",
    "    'Spring 2019': 20191, 'Summer 2019': 20192, 'Fall 2019': 20193, 'Wintersession 2019': 20194, 'Intersession 2019': 20194, \n",
    "    'Spring 2020': 20201, 'Summer 2020': 20202, 'Fall 2020': 20203, 'Wintersession 2020': 20204, 'Intersession 2020': 20204, \n",
    "    'Spring 2021': 20211, 'Summer 2021': 20212, 'Fall 2021': 20213, 'Wintersession 2021': 20214, 'Intersession 2021': 20214, \n",
    "    'Spring 2022': 20221, 'Summer 2022': 20222, 'Fall 2022': 20223, 'Wintersession 2022': 20224, 'Intersession 2022': 20224, \n",
    "    'Spring 2023': 20231, 'Summer 2023': 20232, 'Fall 2023': 20233, 'Wintersession 2023': 20234, 'Intersession 2023': 20234, \n",
    "    'Spring 2024': 20241, 'Summer 2024': 20242, 'Fall 2024': 20243, 'Wintersession 2024': 20244, 'Intersession 2024': 20244, \n",
    "    'Spring 2025': 20251, 'Summer 2025': 20252, 'Fall 2025': 20253, 'Wintersession 2025': 20254, 'Intersession 2025': 20254, \n",
    "    'Spring 2026': 20261, 'Summer 2026': 20262, 'Fall 2026': 20263, 'Wintersession 2026': 20264, 'Intersession 2026': 20264, \n",
    "    'Spring 2027': 20271, 'Summer 2027': 20272, 'Fall 2027': 20273, 'Wintersession 2027': 20274, 'Intersession 2027': 20274, \n",
    "    'Spring 2028': 20281, 'Summer 2028': 20282, 'Fall 2028': 20283, 'Wintersession 2028': 20284, 'Intersession 2028': 20284, \n",
    "    'Spring 2029': 20291, 'Summer 2029': 20292, 'Fall 2029': 20293, 'Wintersession 2029': 20294, 'Intersession 2029': 20294, \n",
    "    'Spring 2030': 20301, 'Summer 2030': 20302, 'Fall 2030': 20303, 'Wintersession 2030': 20304, np.nan: 20305\n",
    "            }\n",
    "\n",
    "# assigns variable 'this_semester' to previously assigned string variable with .get() function on semester dictionary\n",
    "this_semester = semester.get(currentSemester)"
   ]
  },
  {
   "cell_type": "markdown",
   "id": "73098a35",
   "metadata": {},
   "source": [
    "#### grade check dictionary\n",
    "will be important later"
   ]
  },
  {
   "cell_type": "code",
   "execution_count": 6,
   "id": "054ad6ef",
   "metadata": {
    "scrolled": true
   },
   "outputs": [],
   "source": [
    "grades = { # grade dictionary. Values < 14 are considered \"passed\", > 14 are considered failed. 14 is a null value.\n",
    "    'A+': 1, 'A': 2, '*A': 2, 'A-': 3, 'B+': 4, 'B': 5, '*B': 5, 'B-': 6, 'C+': 7,\n",
    "    'C': 8, '*C': 8, 'C-': 9, 'D+': 10, 'D': 11, '*D': 11, 'CR*': 12, 'TR': 13, '*TR': 13, np.nan: 14, \n",
    "    'F': 15, '*F': 15, 'NC*': 16, 'W': 17\n",
    "         }"
   ]
  },
  {
   "cell_type": "markdown",
   "id": "355a710f",
   "metadata": {},
   "source": [
    "### function to clean your Requirements Not Met dataset: "
   ]
  },
  {
   "cell_type": "code",
   "execution_count": 7,
   "id": "f6037eda",
   "metadata": {
    "scrolled": true
   },
   "outputs": [],
   "source": [
    "def clean_and_format_data(df):\n",
    "\n",
    "    # store values in \"og_header\" in A1, A2, and L5, probably won't use this but it might be useful later\n",
    "    detail_of = df.iloc[0, 0]\n",
    "    detail_sortby = df.iloc[1, 0]\n",
    "    detail_rundate = df.iloc[2, 0]\n",
    "\n",
    "    # concat rows df.iloc[4] + df.iloc[5] (where REAL header begins)\n",
    "    first_row = df.iloc[4].astype(str) # grabs first row, use .astype(str) function to format data properly for concatenation\n",
    "    new_header = (first_row + ' ' + df.iloc[5].astype(str)).str.strip() # concatenates first row with second row\n",
    "    new_header = new_header.replace('\\n', ' ', regex=True) # replaces dumb newline characters with spaces\n",
    "    new_header = new_header.replace('nan', '', regex=True) # replaces the np.nan values in unused concatenated cells with empty strings\n",
    "    new_header = new_header.str.strip() # strips whole header to get rid of concatenated leading & trailing spaces\n",
    "    \n",
    "    for i in range(11, len(new_header)-1)[::2]: # loop to concatenate columns so that the (course name) + (Term Taken/Final Grade) is preserved.\n",
    "        if new_header[i].startswith('No Courses'): # special case for 'No Courses' header ([:10] to accomodate full length of text)\n",
    "            new_header[i+1] = new_header[i][:10].strip() + ' ' + new_header[i+1]\n",
    "        else: \n",
    "            new_header[i+1] = new_header[i][:7].strip() + ' ' + new_header[i+1] # concat course name (could be 7 char (MAT 135P)) with (Final Grade)\n",
    "    \n",
    "    df = df[6:] # assign dataframe to rows with relevant student data\n",
    "    df.reset_index(inplace = True, drop = True) # reset index to new range\n",
    "    \n",
    "    df.columns = new_header # assign columns to the new concatenated header\n",
    "    \n",
    "    df.iloc[: , 12::2] = df.iloc[: , 12::2].replace(' ', np.nan) # for some reason, if course is being taken currently, grade is stored as a ' ' char. replace with np.nan\n",
    "    \n",
    "    return df"
   ]
  },
  {
   "cell_type": "markdown",
   "id": "ba912da2",
   "metadata": {},
   "source": [
    "### Insert file here in clean_and_format_data(pd.read_excel(r\"*YOUR_PATHNAME_HERE*\"))\n",
    "* the 'r' before the pathname in quotes is important"
   ]
  },
  {
   "cell_type": "code",
   "execution_count": 8,
   "id": "c4ab4de7",
   "metadata": {
    "scrolled": true
   },
   "outputs": [
    {
     "name": "stderr",
     "output_type": "stream",
     "text": [
      "C:\\Users\\cavaran\\AppData\\Local\\Temp\\ipykernel_11880\\1623132078.py:16: FutureWarning: Series.__getitem__ treating keys as positions is deprecated. In a future version, integer keys will always be treated as labels (consistent with DataFrame behavior). To access a value by position, use `ser.iloc[pos]`\n",
      "  if new_header[i].startswith('No Courses'): # special case for 'No Courses' header ([:10] to accomodate full length of text)\n",
      "C:\\Users\\cavaran\\AppData\\Local\\Temp\\ipykernel_11880\\1623132078.py:19: FutureWarning: Series.__getitem__ treating keys as positions is deprecated. In a future version, integer keys will always be treated as labels (consistent with DataFrame behavior). To access a value by position, use `ser.iloc[pos]`\n",
      "  new_header[i+1] = new_header[i][:7].strip() + ' ' + new_header[i+1] # concat course name (could be 7 char (MAT 135P)) with (Final Grade)\n",
      "C:\\Users\\cavaran\\AppData\\Local\\Temp\\ipykernel_11880\\1623132078.py:19: FutureWarning: Series.__setitem__ treating keys as positions is deprecated. In a future version, integer keys will always be treated as labels (consistent with DataFrame behavior). To set a value by position, use `ser.iloc[pos] = value`\n",
      "  new_header[i+1] = new_header[i][:7].strip() + ' ' + new_header[i+1] # concat course name (could be 7 char (MAT 135P)) with (Final Grade)\n",
      "C:\\Users\\cavaran\\AppData\\Local\\Temp\\ipykernel_11880\\1623132078.py:17: FutureWarning: Series.__getitem__ treating keys as positions is deprecated. In a future version, integer keys will always be treated as labels (consistent with DataFrame behavior). To access a value by position, use `ser.iloc[pos]`\n",
      "  new_header[i+1] = new_header[i][:10].strip() + ' ' + new_header[i+1]\n",
      "C:\\Users\\cavaran\\AppData\\Local\\Temp\\ipykernel_11880\\1623132078.py:17: FutureWarning: Series.__setitem__ treating keys as positions is deprecated. In a future version, integer keys will always be treated as labels (consistent with DataFrame behavior). To set a value by position, use `ser.iloc[pos] = value`\n",
      "  new_header[i+1] = new_header[i][:10].strip() + ' ' + new_header[i+1]\n"
     ]
    }
   ],
   "source": [
    "# Read the Excel file with new function to clean and format data properly\n",
    "df = clean_and_format_data(pd.read_excel(r\"C:\\Users\\cavaran\\OneDrive - Eastern Connecticut State University\\_work\\2023-2024\\_today\\BIS205_Majors_Requiring_it_Dec4_2024.xlsx\"))\n",
    "df.head(); # new dataframe! looks great, doesn't it?!??!????"
   ]
  },
  {
   "cell_type": "code",
   "execution_count": 9,
   "id": "cf023542",
   "metadata": {},
   "outputs": [
    {
     "data": {
      "text/plain": [
       "Index(['Major1', 'Minor1', 'Class', 'Name', 'ID', 'Reg Crs', 'TotErndCrs',\n",
       "       'CumeGPA', 'Admit Term', 'Campus Email', 'MAJRADVR',\n",
       "       'BIS205 Term Taken', 'BIS205 Final Grade', 'MAT135 Term Taken',\n",
       "       'MAT135 Final Grade', 'MAT135P Term Taken', 'MAT135P Final Grade',\n",
       "       'MAT155 Term Taken', 'MAT155 Final Grade', 'MAT155P Term Taken',\n",
       "       'MAT155P Final Grade', 'MAT195 Term Taken', 'MAT195 Final Grade',\n",
       "       'MAT243 Term Taken', 'MAT243 Final Grade', 'MAT244 Term Taken',\n",
       "       'MAT244 Final Grade', 'No Courses Term Taken',\n",
       "       'No Courses Final Grade'],\n",
       "      dtype='object')"
      ]
     },
     "execution_count": 9,
     "metadata": {},
     "output_type": "execute_result"
    }
   ],
   "source": [
    "df.columns"
   ]
  },
  {
   "cell_type": "markdown",
   "id": "892f3d4d",
   "metadata": {},
   "source": [
    "## function to check prereqs and req'd class\n",
    "#### returns students who FIT THE CRITERIA to take the class next semester."
   ]
  },
  {
   "cell_type": "code",
   "execution_count": 10,
   "id": "295d1801",
   "metadata": {
    "scrolled": true
   },
   "outputs": [],
   "source": [
    "def bis205_prereq_check(df): # find if students can take the class next semester!\n",
    "    \n",
    "    stu_list = []\n",
    "    for i in range(df.shape[0]): # loop through dataframe to find & append records based on criteria below.\n",
    "        try: # BUS 205 & BIS 205 included\n",
    "            if (\n",
    "                (( # check to see if prereq classes were passed.\n",
    "                    grades.get(df.iloc[i].loc['MAT135 Final Grade']) < grades.get(np.nan) or \n",
    "                    grades.get(df.iloc[i].loc['MAT135P Final Grade']) < grades.get(np.nan) or \n",
    "                    grades.get(df.iloc[i].loc['MAT155 Final Grade']) < grades.get(np.nan) or \n",
    "                    grades.get(df.iloc[i].loc['MAT155P Final Grade']) < grades.get(np.nan) or \n",
    "                    grades.get(df.iloc[i].loc['MAT195 Final Grade']) < grades.get(np.nan) or \n",
    "                    grades.get(df.iloc[i].loc['MAT243 Final Grade']) < grades.get(np.nan) \n",
    "                )\n",
    "                or\n",
    "                (\n",
    "                    ( # or, check to see if prereq classes are currently being taken this semester.\n",
    "                        (semester.get(df.iloc[i].loc['MAT135 Term Taken']) == this_semester and grades.get(df.iloc[i].loc['MAT135 Final Grade']) == grades.get(np.nan))\n",
    "                        or \n",
    "                        (semester.get(df.iloc[i].loc['MAT135P Term Taken']) == this_semester and grades.get(df.iloc[i].loc['MAT135P Final Grade']) == grades.get(np.nan))\n",
    "                        or \n",
    "                        (semester.get(df.iloc[i].loc['MAT155 Term Taken']) == this_semester and grades.get(df.iloc[i].loc['MAT155 Final Grade']) == grades.get(np.nan))\n",
    "                        or\n",
    "                        (semester.get(df.iloc[i].loc['MAT155P Term Taken']) == this_semester and grades.get(df.iloc[i].loc['MAT155P Final Grade']) == grades.get(np.nan))\n",
    "                        or \n",
    "                        (semester.get(df.iloc[i].loc['MAT195 Term Taken']) == this_semester and grades.get(df.iloc[i].loc['MAT195 Final Grade']) == grades.get(np.nan))\n",
    "                        or \n",
    "                        (semester.get(df.iloc[i].loc['MAT243 Term Taken']) == this_semester and grades.get(df.iloc[i].loc['MAT243 Final Grade']) == grades.get(np.nan))\n",
    "                    )\n",
    "                ))\n",
    "                and \n",
    "                (( \n",
    "                    ( # if required course was already taken in a previous semester, it should have been FAILED. \n",
    "                        (semester.get(df.iloc[i].loc['BIS205 Term Taken']) <= this_semester and grades.get(df.iloc[i].loc['BIS205 Final Grade']) > grades.get(np.nan))\n",
    "                        or  \n",
    "                        (semester.get(df.iloc[i].loc['BUS205 Term Taken']) <= this_semester and grades.get(df.iloc[i].loc['BUS205 Final Grade']) > grades.get(np.nan))\n",
    "                    )\n",
    "                    and # ensure class was never taken again and passed.\n",
    "                    (\n",
    "                        (grades.get(df.iloc[i].loc['BIS205 Final Grade']) >= grades.get(np.nan) and grades.get(df.iloc[i].loc['BUS205 Final Grade']) >= grades.get(np.nan))\n",
    "                    )\n",
    "                )\n",
    "                or \n",
    "                (\n",
    "                    ( # otherwise, the required course should have never been taken.\n",
    "                        (semester.get(df.iloc[i].loc['BIS205 Term Taken']) == semester.get(np.nan) and grades.get(df.iloc[i].loc['BIS205 Final Grade']) == grades.get(np.nan))\n",
    "                        and \n",
    "                         (semester.get(df.iloc[i].loc['BUS205 Term Taken']) == semester.get(np.nan) and grades.get(df.iloc[i].loc['BUS205 Final Grade']) == grades.get(np.nan))\n",
    "                    )\n",
    "                ))\n",
    "            ): \n",
    "                stu_list.append(df.iloc[i, :])\n",
    "        except KeyError: # only look at BIS 205\n",
    "            if (\n",
    "            (( # check to see if prereq classes were passed.\n",
    "                grades.get(df.iloc[i].loc['MAT135 Final Grade']) < grades.get(np.nan) or \n",
    "                grades.get(df.iloc[i].loc['MAT135P Final Grade']) < grades.get(np.nan) or \n",
    "                grades.get(df.iloc[i].loc['MAT155 Final Grade']) < grades.get(np.nan) or \n",
    "                grades.get(df.iloc[i].loc['MAT155P Final Grade']) < grades.get(np.nan) or \n",
    "                grades.get(df.iloc[i].loc['MAT195 Final Grade']) < grades.get(np.nan) or \n",
    "                grades.get(df.iloc[i].loc['MAT243 Final Grade']) < grades.get(np.nan) \n",
    "        )\n",
    "            or\n",
    "            (\n",
    "                ( # or, check to see if prereq classes are currently being taken this semester.\n",
    "                    (semester.get(df.iloc[i].loc['MAT135 Term Taken']) == this_semester and grades.get(df.iloc[i].loc['MAT135 Final Grade']) == grades.get(np.nan))\n",
    "                    or \n",
    "                    (semester.get(df.iloc[i].loc['MAT135P Term Taken']) == this_semester and grades.get(df.iloc[i].loc['MAT135P Final Grade']) == grades.get(np.nan))\n",
    "                    or \n",
    "                    (semester.get(df.iloc[i].loc['MAT155 Term Taken']) == this_semester and grades.get(df.iloc[i].loc['MAT155 Final Grade']) == grades.get(np.nan))\n",
    "                    or\n",
    "                    (semester.get(df.iloc[i].loc['MAT155P Term Taken']) == this_semester and grades.get(df.iloc[i].loc['MAT155P Final Grade']) == grades.get(np.nan))\n",
    "                    or \n",
    "                    (semester.get(df.iloc[i].loc['MAT195 Term Taken']) == this_semester and grades.get(df.iloc[i].loc['MAT195 Final Grade']) == grades.get(np.nan))\n",
    "                    or \n",
    "                    (semester.get(df.iloc[i].loc['MAT243 Term Taken']) == this_semester and grades.get(df.iloc[i].loc['MAT243 Final Grade']) == grades.get(np.nan))\n",
    "                )\n",
    "            ))\n",
    "            and \n",
    "            (( \n",
    "                ( # if required course was already taken in a previous semester, it should have been FAILED. \n",
    "                    (semester.get(df.iloc[i].loc['BIS205 Term Taken']) <= this_semester and grades.get(df.iloc[i].loc['BIS205 Final Grade']) > grades.get(np.nan))\n",
    "#                     or  \n",
    "#                     (semester.get(df.iloc[i].loc['BUS205 Term Taken']) <= this_semester and grades.get(df.iloc[i].loc['BUS205 Final Grade']) > grades.get(np.nan))\n",
    "                )\n",
    "                and # ensure class was never taken again and passed.\n",
    "                (\n",
    "                    (grades.get(df.iloc[i].loc['BIS205 Final Grade']) >= grades.get(np.nan)) # and grades.get(df.iloc[i].loc['BUS205 Final Grade']) >= grades.get(np.nan))\n",
    "                )\n",
    "            )\n",
    "            or \n",
    "            (\n",
    "                ( # otherwise, the required course should have never been taken.\n",
    "                    (semester.get(df.iloc[i].loc['BIS205 Term Taken']) == semester.get(np.nan) and grades.get(df.iloc[i].loc['BIS205 Final Grade']) == grades.get(np.nan))\n",
    "#                     and \n",
    "#                      (semester.get(df.iloc[i].loc['BUS205 Term Taken']) == semester.get(np.nan) and grades.get(df.iloc[i].loc['BUS205 Final Grade']) == grades.get(np.nan))\n",
    "                )\n",
    "            ))\n",
    "            ): \n",
    "                stu_list.append(df.iloc[i, :])\n",
    "\n",
    "    bis205 = pd.DataFrame(stu_list)\n",
    "    bis205.sort_values(by = ['TotErndCrs', 'Name'], ascending = [False, True], inplace = True)\n",
    "    return bis205"
   ]
  },
  {
   "cell_type": "markdown",
   "id": "42be9a59",
   "metadata": {},
   "source": [
    "## function to export analyzed data to a .xlsx file in cd"
   ]
  },
  {
   "cell_type": "code",
   "execution_count": 11,
   "id": "9dcbfc56",
   "metadata": {},
   "outputs": [],
   "source": [
    "def export_xlsx(bis205): \n",
    "    if file_name: #check to see if a file name was entered\n",
    "        bis205.to_excel(f'{file_name}.xlsx', index = False)\n",
    "    else: \n",
    "        bis205.to_excel(f'bis205_prereq_check.xlsx', index = False)\n",
    "    print(f'...done\\nfound {bis205.shape[0]} matches')"
   ]
  },
  {
   "cell_type": "markdown",
   "id": "ab066f9c",
   "metadata": {},
   "source": [
    "## call function on already clean and formatted data\n",
    "### return head() to check"
   ]
  },
  {
   "cell_type": "code",
   "execution_count": 12,
   "id": "0393ba0e",
   "metadata": {
    "scrolled": true
   },
   "outputs": [],
   "source": [
    "df205 = bis205_prereq_check(df)\n",
    "df205.head();"
   ]
  },
  {
   "cell_type": "markdown",
   "id": "fcc9f1b5",
   "metadata": {},
   "source": [
    "### export a csv of analyzed data to cd"
   ]
  },
  {
   "cell_type": "code",
   "execution_count": 25,
   "id": "6612b488",
   "metadata": {
    "scrolled": true
   },
   "outputs": [
    {
     "name": "stdout",
     "output_type": "stream",
     "text": [
      "...done\n",
      "found 29 matches\n"
     ]
    }
   ],
   "source": [
    "export_xlsx(df205)"
   ]
  },
  {
   "cell_type": "code",
   "execution_count": null,
   "id": "78bab0ec",
   "metadata": {},
   "outputs": [],
   "source": []
  }
 ],
 "metadata": {
  "kernelspec": {
   "display_name": "Python 3 (ipykernel)",
   "language": "python",
   "name": "python3"
  },
  "language_info": {
   "codemirror_mode": {
    "name": "ipython",
    "version": 3
   },
   "file_extension": ".py",
   "mimetype": "text/x-python",
   "name": "python",
   "nbconvert_exporter": "python",
   "pygments_lexer": "ipython3",
   "version": "3.11.5"
  }
 },
 "nbformat": 4,
 "nbformat_minor": 5
}
